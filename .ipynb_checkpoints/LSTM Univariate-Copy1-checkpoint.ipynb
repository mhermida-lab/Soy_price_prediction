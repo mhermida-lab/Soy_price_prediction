{
 "cells": [
  {
   "cell_type": "code",
   "execution_count": 97,
   "metadata": {},
   "outputs": [],
   "source": [
    "import matplotlib.pyplot as plt\n",
    "import pandas as pd\n",
    "import seaborn as sns\n",
    "import numpy as np\n",
    "import math\n",
    "from keras.models import Sequential\n",
    "from keras.layers import Dense\n",
    "from keras.layers import LSTM\n",
    "from sklearn.preprocessing import MinMaxScaler\n",
    "from sklearn.metrics import mean_absolute_error"
   ]
  },
  {
   "cell_type": "code",
   "execution_count": 149,
   "metadata": {},
   "outputs": [],
   "source": [
    "dataset = pd.read_csv('./datasetRofex4.csv',parse_dates=True)\n",
    "\n",
    "dataset = dataset[['Id','Fecha','Cierre']]"
   ]
  },
  {
   "cell_type": "code",
   "execution_count": 150,
   "metadata": {},
   "outputs": [],
   "source": [
    "dataset['Fecha'] = pd.to_datetime(dataset['Fecha'], dayfirst=True, infer_datetime_format=True)"
   ]
  },
  {
   "cell_type": "code",
   "execution_count": 151,
   "metadata": {},
   "outputs": [],
   "source": [
    "dataset = dataset.set_index(dataset['Id'])\n",
    "df = dataset.drop(['Fecha','Id'], axis=1)"
   ]
  },
  {
   "cell_type": "code",
   "execution_count": 152,
   "metadata": {},
   "outputs": [],
   "source": [
    "scaler = MinMaxScaler(feature_range=(0, 1))\n",
    "df = scaler.fit_transform(df)"
   ]
  },
  {
   "cell_type": "code",
   "execution_count": 173,
   "metadata": {},
   "outputs": [
    {
     "name": "stdout",
     "output_type": "stream",
     "text": [
      "3853 22\n"
     ]
    }
   ],
   "source": [
    "train_size = int(len(df) * 0.9945)\n",
    "test_size = len(df) - train_size\n",
    "train, test = df[0:train_size,:], df[train_size:len(df),:]\n",
    "print(len(train), len(test))"
   ]
  },
  {
   "cell_type": "code",
   "execution_count": 174,
   "metadata": {},
   "outputs": [],
   "source": [
    "# esto convierte un array en un dataset\n",
    "def create_dataset(df, look_back):\n",
    "    dataX, dataY = [], []\n",
    "    for i in range(len(df)-look_back-1):\n",
    "        a = df[i:(i+look_back), 0]\n",
    "        dataX.append(a)\n",
    "        dataY.append(df[(i + look_back+1), 0])\n",
    "    return np.array(dataX), np.array(dataY)"
   ]
  },
  {
   "cell_type": "code",
   "execution_count": 175,
   "metadata": {},
   "outputs": [],
   "source": [
    "# defino cuantos valores va a alcanzar el look back (la ventana de valores como vector de input)\n",
    "look_back = 20\n",
    "trainX, trainY = create_dataset(train, look_back)\n",
    "testX, testY = create_dataset(test, look_back)"
   ]
  },
  {
   "cell_type": "code",
   "execution_count": 176,
   "metadata": {},
   "outputs": [
    {
     "data": {
      "text/plain": [
       "(1, 20)"
      ]
     },
     "execution_count": 176,
     "metadata": {},
     "output_type": "execute_result"
    }
   ],
   "source": [
    "testX.shape"
   ]
  },
  {
   "cell_type": "code",
   "execution_count": 113,
   "metadata": {},
   "outputs": [],
   "source": [
    "trainX = np.reshape(trainX, (trainX.shape[0], 1, trainX.shape[1]))\n",
    "testX = np.reshape(testX, (testX.shape[0], 1, testX.shape[1]))"
   ]
  },
  {
   "cell_type": "code",
   "execution_count": 115,
   "metadata": {},
   "outputs": [
    {
     "name": "stdout",
     "output_type": "stream",
     "text": [
      "Epoch 1/200\n",
      " - 9s - loss: 0.4589\n",
      "Epoch 2/200\n",
      " - 0s - loss: 0.4326\n",
      "Epoch 3/200\n",
      " - 0s - loss: 0.4056\n",
      "Epoch 4/200\n",
      " - 0s - loss: 0.3779\n",
      "Epoch 5/200\n",
      " - 0s - loss: 0.3496\n",
      "Epoch 6/200\n",
      " - 0s - loss: 0.3208\n",
      "Epoch 7/200\n",
      " - 0s - loss: 0.2917\n",
      "Epoch 8/200\n",
      " - 0s - loss: 0.2622\n",
      "Epoch 9/200\n",
      " - 0s - loss: 0.2331\n",
      "Epoch 10/200\n",
      " - 0s - loss: 0.2045\n",
      "Epoch 11/200\n",
      " - 0s - loss: 0.1768\n",
      "Epoch 12/200\n",
      " - 0s - loss: 0.1495\n",
      "Epoch 13/200\n",
      " - 0s - loss: 0.1234\n",
      "Epoch 14/200\n",
      " - 0s - loss: 0.0993\n",
      "Epoch 15/200\n",
      " - 0s - loss: 0.0789\n",
      "Epoch 16/200\n",
      " - 0s - loss: 0.0644\n",
      "Epoch 17/200\n",
      " - 0s - loss: 0.0577\n",
      "Epoch 18/200\n",
      " - 0s - loss: 0.0563\n",
      "Epoch 19/200\n",
      " - 0s - loss: 0.0566\n",
      "Epoch 20/200\n",
      " - 0s - loss: 0.0554\n",
      "Epoch 21/200\n",
      " - 0s - loss: 0.0526\n",
      "Epoch 22/200\n",
      " - 0s - loss: 0.0491\n",
      "Epoch 23/200\n",
      " - 0s - loss: 0.0462\n",
      "Epoch 24/200\n",
      " - 0s - loss: 0.0441\n",
      "Epoch 25/200\n",
      " - 0s - loss: 0.0424\n",
      "Epoch 26/200\n",
      " - 0s - loss: 0.0405\n",
      "Epoch 27/200\n",
      " - 0s - loss: 0.0384\n",
      "Epoch 28/200\n",
      " - 0s - loss: 0.0364\n",
      "Epoch 29/200\n",
      " - 0s - loss: 0.0347\n",
      "Epoch 30/200\n",
      " - 0s - loss: 0.0331\n",
      "Epoch 31/200\n",
      " - 0s - loss: 0.0317\n",
      "Epoch 32/200\n",
      " - 0s - loss: 0.0304\n",
      "Epoch 33/200\n",
      " - 0s - loss: 0.0294\n",
      "Epoch 34/200\n",
      " - 0s - loss: 0.0285\n",
      "Epoch 35/200\n",
      " - 0s - loss: 0.0279\n",
      "Epoch 36/200\n",
      " - 0s - loss: 0.0274\n",
      "Epoch 37/200\n",
      " - 0s - loss: 0.0270\n",
      "Epoch 38/200\n",
      " - 0s - loss: 0.0267\n",
      "Epoch 39/200\n",
      " - 0s - loss: 0.0265\n",
      "Epoch 40/200\n",
      " - 0s - loss: 0.0264\n",
      "Epoch 41/200\n",
      " - 0s - loss: 0.0263\n",
      "Epoch 42/200\n",
      " - 0s - loss: 0.0262\n",
      "Epoch 43/200\n",
      " - 0s - loss: 0.0261\n",
      "Epoch 44/200\n",
      " - 0s - loss: 0.0260\n",
      "Epoch 45/200\n",
      " - 0s - loss: 0.0260\n",
      "Epoch 46/200\n",
      " - 0s - loss: 0.0259\n",
      "Epoch 47/200\n",
      " - 0s - loss: 0.0258\n",
      "Epoch 48/200\n",
      " - 0s - loss: 0.0258\n",
      "Epoch 49/200\n",
      " - 0s - loss: 0.0257\n",
      "Epoch 50/200\n",
      " - 0s - loss: 0.0256\n",
      "Epoch 51/200\n",
      " - 0s - loss: 0.0256\n",
      "Epoch 52/200\n",
      " - 0s - loss: 0.0255\n",
      "Epoch 53/200\n",
      " - 0s - loss: 0.0254\n",
      "Epoch 54/200\n",
      " - 0s - loss: 0.0254\n",
      "Epoch 55/200\n",
      " - 0s - loss: 0.0253\n",
      "Epoch 56/200\n",
      " - 0s - loss: 0.0252\n",
      "Epoch 57/200\n",
      " - 0s - loss: 0.0252\n",
      "Epoch 58/200\n",
      " - 0s - loss: 0.0251\n",
      "Epoch 59/200\n",
      " - 0s - loss: 0.0250\n",
      "Epoch 60/200\n",
      " - 0s - loss: 0.0250\n",
      "Epoch 61/200\n",
      " - 0s - loss: 0.0249\n",
      "Epoch 62/200\n",
      " - 0s - loss: 0.0248\n",
      "Epoch 63/200\n",
      " - 0s - loss: 0.0248\n",
      "Epoch 64/200\n",
      " - 0s - loss: 0.0247\n",
      "Epoch 65/200\n",
      " - 0s - loss: 0.0246\n",
      "Epoch 66/200\n",
      " - 0s - loss: 0.0246\n",
      "Epoch 67/200\n",
      " - 0s - loss: 0.0245\n",
      "Epoch 68/200\n",
      " - 0s - loss: 0.0244\n",
      "Epoch 69/200\n",
      " - 0s - loss: 0.0243\n",
      "Epoch 70/200\n",
      " - 0s - loss: 0.0243\n",
      "Epoch 71/200\n",
      " - 0s - loss: 0.0242\n",
      "Epoch 72/200\n",
      " - 0s - loss: 0.0241\n",
      "Epoch 73/200\n",
      " - 0s - loss: 0.0241\n",
      "Epoch 74/200\n",
      " - 0s - loss: 0.0240\n",
      "Epoch 75/200\n",
      " - 0s - loss: 0.0239\n",
      "Epoch 76/200\n",
      " - 0s - loss: 0.0239\n",
      "Epoch 77/200\n",
      " - 0s - loss: 0.0238\n",
      "Epoch 78/200\n",
      " - 0s - loss: 0.0237\n",
      "Epoch 79/200\n",
      " - 0s - loss: 0.0237\n",
      "Epoch 80/200\n",
      " - 0s - loss: 0.0236\n",
      "Epoch 81/200\n",
      " - 0s - loss: 0.0235\n",
      "Epoch 82/200\n",
      " - 0s - loss: 0.0235\n",
      "Epoch 83/200\n",
      " - 0s - loss: 0.0234\n",
      "Epoch 84/200\n",
      " - 0s - loss: 0.0233\n",
      "Epoch 85/200\n",
      " - 0s - loss: 0.0233\n",
      "Epoch 86/200\n",
      " - 0s - loss: 0.0232\n",
      "Epoch 87/200\n",
      " - 0s - loss: 0.0232\n",
      "Epoch 88/200\n",
      " - 0s - loss: 0.0231\n",
      "Epoch 89/200\n",
      " - 0s - loss: 0.0230\n",
      "Epoch 90/200\n",
      " - 0s - loss: 0.0230\n",
      "Epoch 91/200\n",
      " - 0s - loss: 0.0229\n",
      "Epoch 92/200\n",
      " - 0s - loss: 0.0229\n",
      "Epoch 93/200\n",
      " - 0s - loss: 0.0228\n",
      "Epoch 94/200\n",
      " - 0s - loss: 0.0228\n",
      "Epoch 95/200\n",
      " - 0s - loss: 0.0227\n",
      "Epoch 96/200\n",
      " - 0s - loss: 0.0227\n",
      "Epoch 97/200\n",
      " - 0s - loss: 0.0226\n",
      "Epoch 98/200\n",
      " - 0s - loss: 0.0226\n",
      "Epoch 99/200\n",
      " - 0s - loss: 0.0225\n",
      "Epoch 100/200\n",
      " - 0s - loss: 0.0225\n",
      "Epoch 101/200\n",
      " - 0s - loss: 0.0224\n",
      "Epoch 102/200\n",
      " - 0s - loss: 0.0224\n",
      "Epoch 103/200\n",
      " - 0s - loss: 0.0223\n",
      "Epoch 104/200\n",
      " - 0s - loss: 0.0223\n",
      "Epoch 105/200\n",
      " - 0s - loss: 0.0222\n",
      "Epoch 106/200\n",
      " - 0s - loss: 0.0222\n",
      "Epoch 107/200\n",
      " - 0s - loss: 0.0221\n",
      "Epoch 108/200\n",
      " - 0s - loss: 0.0221\n",
      "Epoch 109/200\n",
      " - 0s - loss: 0.0220\n",
      "Epoch 110/200\n",
      " - 0s - loss: 0.0220\n",
      "Epoch 111/200\n",
      " - 0s - loss: 0.0219\n",
      "Epoch 112/200\n",
      " - 0s - loss: 0.0219\n",
      "Epoch 113/200\n",
      " - 0s - loss: 0.0218\n",
      "Epoch 114/200\n",
      " - 0s - loss: 0.0218\n",
      "Epoch 115/200\n",
      " - 0s - loss: 0.0217\n",
      "Epoch 116/200\n",
      " - 0s - loss: 0.0217\n",
      "Epoch 117/200\n",
      " - 0s - loss: 0.0216\n",
      "Epoch 118/200\n",
      " - 0s - loss: 0.0216\n",
      "Epoch 119/200\n",
      " - 0s - loss: 0.0215\n",
      "Epoch 120/200\n",
      " - 0s - loss: 0.0215\n",
      "Epoch 121/200\n",
      " - 0s - loss: 0.0214\n",
      "Epoch 122/200\n",
      " - 0s - loss: 0.0214\n",
      "Epoch 123/200\n",
      " - 0s - loss: 0.0213\n",
      "Epoch 124/200\n",
      " - 0s - loss: 0.0213\n",
      "Epoch 125/200\n",
      " - 0s - loss: 0.0212\n",
      "Epoch 126/200\n",
      " - 0s - loss: 0.0212\n",
      "Epoch 127/200\n",
      " - 0s - loss: 0.0211\n",
      "Epoch 128/200\n",
      " - 0s - loss: 0.0211\n",
      "Epoch 129/200\n",
      " - 0s - loss: 0.0210\n",
      "Epoch 130/200\n",
      " - 0s - loss: 0.0210\n",
      "Epoch 131/200\n",
      " - 0s - loss: 0.0210\n",
      "Epoch 132/200\n",
      " - 0s - loss: 0.0209\n",
      "Epoch 133/200\n",
      " - 0s - loss: 0.0209\n",
      "Epoch 134/200\n",
      " - 0s - loss: 0.0208\n",
      "Epoch 135/200\n",
      " - 0s - loss: 0.0208\n",
      "Epoch 136/200\n",
      " - 0s - loss: 0.0207\n",
      "Epoch 137/200\n",
      " - 0s - loss: 0.0207\n",
      "Epoch 138/200\n",
      " - 0s - loss: 0.0206\n",
      "Epoch 139/200\n",
      " - 0s - loss: 0.0206\n",
      "Epoch 140/200\n",
      " - 0s - loss: 0.0205\n",
      "Epoch 141/200\n",
      " - 0s - loss: 0.0205\n",
      "Epoch 142/200\n",
      " - 0s - loss: 0.0204\n",
      "Epoch 143/200\n",
      " - 0s - loss: 0.0204\n",
      "Epoch 144/200\n",
      " - 0s - loss: 0.0204\n",
      "Epoch 145/200\n",
      " - 0s - loss: 0.0203\n",
      "Epoch 146/200\n",
      " - 0s - loss: 0.0203\n",
      "Epoch 147/200\n",
      " - 0s - loss: 0.0202\n",
      "Epoch 148/200\n",
      " - 0s - loss: 0.0202\n",
      "Epoch 149/200\n",
      " - 0s - loss: 0.0201\n",
      "Epoch 150/200\n",
      " - 0s - loss: 0.0201\n",
      "Epoch 151/200\n",
      " - 0s - loss: 0.0200\n",
      "Epoch 152/200\n",
      " - 0s - loss: 0.0200\n",
      "Epoch 153/200\n",
      " - 0s - loss: 0.0199\n",
      "Epoch 154/200\n",
      " - 0s - loss: 0.0199\n",
      "Epoch 155/200\n",
      " - 0s - loss: 0.0199\n",
      "Epoch 156/200\n",
      " - 0s - loss: 0.0198\n",
      "Epoch 157/200\n",
      " - 0s - loss: 0.0198\n",
      "Epoch 158/200\n",
      " - 0s - loss: 0.0197\n",
      "Epoch 159/200\n",
      " - 0s - loss: 0.0197\n",
      "Epoch 160/200\n",
      " - 0s - loss: 0.0196\n",
      "Epoch 161/200\n",
      " - 0s - loss: 0.0196\n",
      "Epoch 162/200\n",
      " - 0s - loss: 0.0196\n",
      "Epoch 163/200\n",
      " - 0s - loss: 0.0195\n",
      "Epoch 164/200\n",
      " - 0s - loss: 0.0195\n",
      "Epoch 165/200\n",
      " - 0s - loss: 0.0194\n",
      "Epoch 166/200\n",
      " - 0s - loss: 0.0194\n",
      "Epoch 167/200\n",
      " - 0s - loss: 0.0193\n",
      "Epoch 168/200\n",
      " - 0s - loss: 0.0193\n",
      "Epoch 169/200\n",
      " - 0s - loss: 0.0193\n",
      "Epoch 170/200\n",
      " - 0s - loss: 0.0192\n",
      "Epoch 171/200\n",
      " - 0s - loss: 0.0192\n",
      "Epoch 172/200\n",
      " - 0s - loss: 0.0191\n",
      "Epoch 173/200\n",
      " - 0s - loss: 0.0191\n",
      "Epoch 174/200\n",
      " - 0s - loss: 0.0191\n",
      "Epoch 175/200\n",
      " - 0s - loss: 0.0190\n",
      "Epoch 176/200\n",
      " - 0s - loss: 0.0190\n",
      "Epoch 177/200\n",
      " - 0s - loss: 0.0189\n",
      "Epoch 178/200\n",
      " - 0s - loss: 0.0189\n",
      "Epoch 179/200\n",
      " - 0s - loss: 0.0189\n",
      "Epoch 180/200\n",
      " - 0s - loss: 0.0188\n",
      "Epoch 181/200\n",
      " - 0s - loss: 0.0188\n",
      "Epoch 182/200\n",
      " - 0s - loss: 0.0188\n",
      "Epoch 183/200\n",
      " - 0s - loss: 0.0187\n",
      "Epoch 184/200\n",
      " - 0s - loss: 0.0187\n",
      "Epoch 185/200\n",
      " - 0s - loss: 0.0186\n",
      "Epoch 186/200\n",
      " - 0s - loss: 0.0186\n",
      "Epoch 187/200\n",
      " - 0s - loss: 0.0185\n",
      "Epoch 188/200\n",
      " - 0s - loss: 0.0185\n",
      "Epoch 189/200\n",
      " - 0s - loss: 0.0185\n",
      "Epoch 190/200\n",
      " - 0s - loss: 0.0184\n",
      "Epoch 191/200\n",
      " - 0s - loss: 0.0184\n",
      "Epoch 192/200\n",
      " - 0s - loss: 0.0184\n",
      "Epoch 193/200\n",
      " - 0s - loss: 0.0183\n",
      "Epoch 194/200\n",
      " - 0s - loss: 0.0183\n",
      "Epoch 195/200\n",
      " - 0s - loss: 0.0183\n",
      "Epoch 196/200\n",
      " - 0s - loss: 0.0182\n",
      "Epoch 197/200\n",
      " - 0s - loss: 0.0182\n",
      "Epoch 198/200\n",
      " - 0s - loss: 0.0182\n",
      "Epoch 199/200\n",
      " - 0s - loss: 0.0181\n",
      "Epoch 200/200\n",
      " - 0s - loss: 0.0181\n"
     ]
    },
    {
     "data": {
      "text/plain": [
       "<keras.callbacks.History at 0x17008af08d0>"
      ]
     },
     "execution_count": 115,
     "metadata": {},
     "output_type": "execute_result"
    }
   ],
   "source": [
    "model = Sequential()\n",
    "model.add(LSTM(4, input_shape=(1, look_back)))\n",
    "model.add(Dense(1))\n",
    "model.compile(loss='mean_absolute_error', optimizer='adam')\n",
    "model.fit(trainX, trainY, epochs=200, batch_size=1000, verbose=2)"
   ]
  },
  {
   "cell_type": "code",
   "execution_count": 109,
   "metadata": {},
   "outputs": [
    {
     "name": "stdout",
     "output_type": "stream",
     "text": [
      "Train Score: 9.27 MAE\n",
      "Test Score: 1.41 MAE\n"
     ]
    }
   ],
   "source": [
    "# prediccion con solo un output\n",
    "trainPredict = model.predict(trainX)\n",
    "testPredict = model.predict(testX)\n",
    "# invierto el escalamiento de la prediccion para poder leer los valores.\n",
    "trainPredict = scaler.inverse_transform(trainPredict)\n",
    "trainY = scaler.inverse_transform([trainY])\n",
    "testPredict = scaler.inverse_transform(testPredict)\n",
    "testY = scaler.inverse_transform([testY])\n",
    "# calculo root mean squared error\n",
    "trainScore = mean_absolute_error(trainY[0], trainPredict[:,0])\n",
    "print('Train Score: %.2f MAE' % (trainScore))\n",
    "testScore = mean_absolute_error(testY[0], testPredict[:,0])\n",
    "print('Test Score: %.2f MAE' % (testScore))"
   ]
  },
  {
   "cell_type": "code",
   "execution_count": 110,
   "metadata": {},
   "outputs": [
    {
     "data": {
      "image/png": "[encoded data removed]",
      "text/plain": [
       "<Figure size 432x288 with 1 Axes>"
      ]
     },
     "metadata": {
      "needs_background": "light"
     },
     "output_type": "display_data"
    }
   ],
   "source": [
    "#ploteo para verificar si las predicciones son parecidas al train y test set\n",
    "%matplotlib inline\n",
    "trainPredictPlot = np.empty_like(df)\n",
    "trainPredictPlot[:, :] = np.nan\n",
    "trainPredictPlot[look_back:len(trainPredict)+look_back, :] = trainPredict\n",
    "testPredictPlot = np.empty_like(df)\n",
    "testPredictPlot[:, :] = np.nan\n",
    "testPredictPlot[len(trainPredict)+(look_back*2)+1:len(df)-1, :] = testPredict\n",
    "plt.plot(scaler.inverse_transform(df))\n",
    "plt.plot(trainPredictPlot)\n",
    "plt.plot(testPredictPlot)\n",
    "plt.show()"
   ]
  },
  {
   "cell_type": "code",
   "execution_count": 235,
   "metadata": {},
   "outputs": [
    {
     "data": {
      "text/plain": [
       "array([[0.32094595, 0.30743243, 0.30743243, 0.30067568, 0.32432432,\n",
       "        0.32432432, 0.31756757, 0.31418919, 0.32094595, 0.31756757,\n",
       "        0.31756757, 0.32432432, 0.32432432, 0.31756757, 0.32094595,\n",
       "        0.32432432, 0.31081081, 0.31081081, 0.31081081, 0.30743243]])"
      ]
     },
     "execution_count": 235,
     "metadata": {},
     "output_type": "execute_result"
    }
   ],
   "source": [
    "testX"
   ]
  },
  {
   "cell_type": "markdown",
   "metadata": {},
   "source": [
    "##  El desafio de utilizar un podelo que predice solo un step de output, fue generar una funcion iterativa que incluya esa prediccion dentro de la ventana lookback de la proxima iteracion. De esta manera durante la primera prediccion, el modelo utiliza como input los ultimos 20 valores reales, luego incluye esa prediccion y la suma a la lista de input y corre la ventana un lugar, tomando 19 valores reales previos y la prediccion. Luego 18 y 2, luego 17 y 3 y asi sucesivamente."
   ]
  },
  {
   "cell_type": "code",
   "execution_count": 249,
   "metadata": {},
   "outputs": [
    {
     "name": "stdout",
     "output_type": "stream",
     "text": [
      "0\n",
      "1\n",
      "2\n",
      "3\n",
      "4\n",
      "5\n",
      "6\n",
      "7\n",
      "8\n",
      "9\n",
      "10\n",
      "11\n",
      "12\n",
      "13\n",
      "14\n",
      "15\n",
      "16\n",
      "17\n",
      "18\n",
      "19\n"
     ]
    }
   ],
   "source": [
    "for i in range(20):\n",
    "    print(i)\n",
    "    to_pred0 = np.reshape(df_pred, (1,-1))\n",
    "    to_pred = to_pred0[:,-20:]\n",
    "    to_pred1 = np.reshape(to_pred, (to_pred.shape[0], 1, to_pred.shape[1]))\n",
    "    a = model.predict(to_pred1)\n",
    "    df_pred = np.append(df_pred, a)"
   ]
  },
  {
   "cell_type": "code",
   "execution_count": 258,
   "metadata": {},
   "outputs": [],
   "source": [
    "df_pred = scaler.inverse_transform(df_pred)"
   ]
  },
  {
   "cell_type": "code",
   "execution_count": 261,
   "metadata": {},
   "outputs": [],
   "source": [
    "final = pd.DataFrame(np.reshape(df_pred, (40,1)))"
   ]
  },
  {
   "cell_type": "code",
   "execution_count": 263,
   "metadata": {},
   "outputs": [],
   "source": [
    "final.to_csv('./final.csv')"
   ]
  },
  {
   "cell_type": "code",
   "execution_count": 234,
   "metadata": {},
   "outputs": [
    {
     "ename": "IndexError",
     "evalue": "tuple index out of range",
     "output_type": "error",
     "traceback": [
      "\u001b[1;31m---------------------------------------------------------------------------\u001b[0m",
      "\u001b[1;31mIndexError\u001b[0m                                Traceback (most recent call last)",
      "\u001b[1;32m<ipython-input-234-56c72c585c18>\u001b[0m in \u001b[0;36m<module>\u001b[1;34m\u001b[0m\n\u001b[0;32m      1\u001b[0m \u001b[0mto_pred\u001b[0m \u001b[1;33m=\u001b[0m \u001b[0mdf_pred\u001b[0m\u001b[1;33m[\u001b[0m\u001b[1;33m-\u001b[0m\u001b[1;36m20\u001b[0m\u001b[1;33m:\u001b[0m\u001b[1;33m]\u001b[0m\u001b[1;33m\u001b[0m\u001b[1;33m\u001b[0m\u001b[0m\n\u001b[1;32m----> 2\u001b[1;33m \u001b[0mto_pred1\u001b[0m \u001b[1;33m=\u001b[0m \u001b[0mnp\u001b[0m\u001b[1;33m.\u001b[0m\u001b[0mreshape\u001b[0m\u001b[1;33m(\u001b[0m\u001b[0mto_pred\u001b[0m\u001b[1;33m,\u001b[0m \u001b[1;33m(\u001b[0m\u001b[0mto_pred\u001b[0m\u001b[1;33m.\u001b[0m\u001b[0mshape\u001b[0m\u001b[1;33m[\u001b[0m\u001b[1;36m0\u001b[0m\u001b[1;33m]\u001b[0m\u001b[1;33m,\u001b[0m \u001b[1;36m1\u001b[0m\u001b[1;33m,\u001b[0m \u001b[0mto_pred\u001b[0m\u001b[1;33m.\u001b[0m\u001b[0mshape\u001b[0m\u001b[1;33m[\u001b[0m\u001b[1;36m1\u001b[0m\u001b[1;33m]\u001b[0m\u001b[1;33m)\u001b[0m\u001b[1;33m)\u001b[0m\u001b[1;33m\u001b[0m\u001b[1;33m\u001b[0m\u001b[0m\n\u001b[0m\u001b[0;32m      3\u001b[0m \u001b[0ma\u001b[0m \u001b[1;33m=\u001b[0m \u001b[0mmodel\u001b[0m\u001b[1;33m.\u001b[0m\u001b[0mpredict\u001b[0m\u001b[1;33m(\u001b[0m\u001b[0mto_pred1\u001b[0m\u001b[1;33m)\u001b[0m\u001b[1;33m\u001b[0m\u001b[1;33m\u001b[0m\u001b[0m\n\u001b[0;32m      4\u001b[0m \u001b[0mnp\u001b[0m\u001b[1;33m.\u001b[0m\u001b[0mappend\u001b[0m\u001b[1;33m(\u001b[0m\u001b[0mdf_pred\u001b[0m\u001b[1;33m,\u001b[0m \u001b[0ma\u001b[0m\u001b[1;33m)\u001b[0m\u001b[1;33m\u001b[0m\u001b[1;33m\u001b[0m\u001b[0m\n",
      "\u001b[1;31mIndexError\u001b[0m: tuple index out of range"
     ]
    }
   ],
   "source": [
    "to_pred0 = np.reshape(df_pred, (1,-1)\n",
    "to_pred = df_pred[:,-20:]\n",
    "to_pred1 = np.reshape(to_pred, (to_pred.shape[0], 1, to_pred.shape[1]))\n",
    "a = model.predict(to_pred1)\n",
    "np.append(df_pred, a)"
   ]
  },
  {
   "cell_type": "code",
   "execution_count": 229,
   "metadata": {},
   "outputs": [],
   "source": [
    "to_pred = df_pred[:,-20:]\n",
    "to_pred1 = np.reshape(to_pred, (to_pred.shape[0], 1, to_pred.shape[1]))\n",
    "a = model.predict(to_pred1)\n",
    "df_pred = np.append(df_pred, a)"
   ]
  },
  {
   "cell_type": "code",
   "execution_count": 232,
   "metadata": {},
   "outputs": [
    {
     "data": {
      "text/plain": [
       "(21,)"
      ]
     },
     "execution_count": 232,
     "metadata": {},
     "output_type": "execute_result"
    }
   ],
   "source": [
    "df_pred.shape"
   ]
  },
  {
   "cell_type": "code",
   "execution_count": 255,
   "metadata": {},
   "outputs": [],
   "source": [
    "df_pred = np.reshape(df_pred, (1,-1))"
   ]
  },
  {
   "cell_type": "code",
   "execution_count": 253,
   "metadata": {},
   "outputs": [
    {
     "data": {
      "text/plain": [
       "(1, 40)"
      ]
     },
     "execution_count": 253,
     "metadata": {},
     "output_type": "execute_result"
    }
   ],
   "source": [
    "to_pred0.shape"
   ]
  },
  {
   "cell_type": "code",
   "execution_count": 264,
   "metadata": {},
   "outputs": [
    {
     "data": {
      "text/plain": [
       "array([[241., 237., 237., 235., 242., 242., 240., 239., 241., 240., 240.,\n",
       "        242., 242., 240., 241., 242., 238., 238., 238., 237.]])"
      ]
     },
     "execution_count": 264,
     "metadata": {},
     "output_type": "execute_result"
    }
   ],
   "source": [
    "scaler.inverse_transform(testX)"
   ]
  },
  {
   "cell_type": "code",
   "execution_count": null,
   "metadata": {},
   "outputs": [],
   "source": []
  }
 ],
 "metadata": {
  "kernelspec": {
   "display_name": "Python 3",
   "language": "python",
   "name": "python3"
  },
  "language_info": {
   "codemirror_mode": {
    "name": "ipython",
    "version": 3
   },
   "file_extension": ".py",
   "mimetype": "text/x-python",
   "name": "python",
   "nbconvert_exporter": "python",
   "pygments_lexer": "ipython3",
   "version": "3.7.3"
  }
 },
 "nbformat": 4,
 "nbformat_minor": 2
}
